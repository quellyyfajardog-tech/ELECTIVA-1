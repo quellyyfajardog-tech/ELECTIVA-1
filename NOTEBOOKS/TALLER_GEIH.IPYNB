{
 "cells": [
  {
   "cell_type": "code",
   "execution_count": 19,
   "id": "74df4896",
   "metadata": {},
   "outputs": [],
   "source": [
    "import pandas as pd\n",
    "import numpy as np"
   ]
  },
  {
   "cell_type": "code",
   "execution_count": 20,
   "id": "4f40ceed",
   "metadata": {},
   "outputs": [],
   "source": [
    "url_cgsse =\"https://github.com/niconomist98/DataAnalyticsUQ/raw/refs/heads/main/Datos/GEIH2025/cgsse.CSV\"\n",
    "url_ocupados =\"https://github.com/niconomist98/DataAnalyticsUQ/raw/refs/heads/main/Datos/GEIH2025/Ocupados.CSV\"\n",
    "url_ft =\"https://github.com/niconomist98/DataAnalyticsUQ/raw/refs/heads/main/Datos/GEIH2025/Fuerza%20de%20trabajo.CSV\"\n",
    "url_desocupados =\"https://github.com/niconomist98/DataAnalyticsUQ/raw/refs/heads/main/Datos/GEIH2025/No%20ocupados.CSV\""
   ]
  },
  {
   "cell_type": "code",
   "execution_count": 21,
   "id": "f99920a9",
   "metadata": {},
   "outputs": [],
   "source": [
    "#cgsse\n",
    "df_cgsse = pd.read_csv(url_cgsse, encoding='latin-1' ,sep=';',low_memory=False)\n",
    "\n",
    "#ocupados\n",
    "df_ocupados=pd.read_csv(url_ocupados,encoding='latin-1',sep=';',low_memory=False)\n",
    "\n",
    "#fuerza de trabajo\n",
    "\n",
    "df_ft=pd.read_csv(url_ft,encoding='latin-1',sep=';',low_memory=False)\n",
    "\n",
    "#no ocupados\n",
    "\n",
    "df_desocupados=pd.read_csv(url_desocupados,encoding='latin-1',sep=';',low_memory=False)\n",
    "\n"
   ]
  },
  {
   "cell_type": "code",
   "execution_count": 22,
   "id": "fb05657b",
   "metadata": {},
   "outputs": [
    {
     "name": "stdout",
     "output_type": "stream",
     "text": [
      "Poblacion total: 52045001.000009045\n"
     ]
    }
   ],
   "source": [
    "#POBLACION TOTAL\n",
    "PT = df_cgsse[\"FEX_C18\"].sum()\n",
    "print(f'Poblacion total: {PT}')"
   ]
  },
  {
   "cell_type": "code",
   "execution_count": 23,
   "id": "61597373",
   "metadata": {},
   "outputs": [
    {
     "name": "stdout",
     "output_type": "stream",
     "text": [
      "Poblacion en edad de trabajar: 40653416.00000409\n"
     ]
    }
   ],
   "source": [
    "#CALCULAR POBLACION DE TRABAJAR\n",
    "PET = df_cgsse[df_cgsse[\"P6040\"] >=15][\"FEX_C18\"].sum()\n",
    "print(f'Poblacion en edad de trabajar: {PET}')"
   ]
  },
  {
   "cell_type": "code",
   "execution_count": 24,
   "id": "dcb3f4e0",
   "metadata": {},
   "outputs": [
    {
     "name": "stdout",
     "output_type": "stream",
     "text": [
      "Poblacion que no esta en edad de trabajar: 11391585.000004958\n"
     ]
    }
   ],
   "source": [
    "#población que no está en edad de trabajar\n",
    "PET =df_cgsse[df_cgsse[\"P6040\"] <15][\"FEX_C18\"].sum()\n",
    "print(f'Poblacion que no esta en edad de trabajar: {PET}')\n"
   ]
  },
  {
   "cell_type": "code",
   "execution_count": 25,
   "id": "63f0ff4f",
   "metadata": {},
   "outputs": [
    {
     "name": "stdout",
     "output_type": "stream",
     "text": [
      "Poblacion en edad de trabajar: 23752952\n",
      "Poblacion de fuerza de trabajo: 40653416\n",
      "Tasa de ocupacion: 58.43%\n"
     ]
    }
   ],
   "source": [
    "#CALCULAR OCUPADOS \n",
    "O = int(df_ocupados['FEX_C18'].sum())\n",
    "print(f'Poblacion en edad de trabajar: {int(df_ocupados['FEX_C18'].sum())}')\n",
    "\n",
    "PET = int(df_ft['FEX_C18'].sum())\n",
    "print(f'Poblacion de fuerza de trabajo: {int(df_ft['FEX_C18'].sum())}')\n",
    "\n",
    "TO = (O/PET)*100\n",
    "print(f'Tasa de ocupacion: {TO:.2f}%')"
   ]
  },
  {
   "cell_type": "code",
   "execution_count": null,
   "id": "d4744cd0",
   "metadata": {},
   "outputs": [],
   "source": [
    "#población económicamente inactiva\n"
   ]
  }
 ],
 "metadata": {
  "kernelspec": {
   "display_name": "Python 3",
   "language": "python",
   "name": "python3"
  },
  "language_info": {
   "codemirror_mode": {
    "name": "ipython",
    "version": 3
   },
   "file_extension": ".py",
   "mimetype": "text/x-python",
   "name": "python",
   "nbconvert_exporter": "python",
   "pygments_lexer": "ipython3",
   "version": "3.12.1"
  }
 },
 "nbformat": 4,
 "nbformat_minor": 5
}
