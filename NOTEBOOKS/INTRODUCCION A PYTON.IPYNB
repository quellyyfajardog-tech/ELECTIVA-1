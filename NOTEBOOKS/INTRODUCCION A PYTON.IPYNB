{
 "cells": [
  {
   "cell_type": "code",
   "execution_count": null,
   "id": "c48cf3b0",
   "metadata": {},
   "outputs": [
    {
     "name": "stdout",
     "output_type": "stream",
     "text": [
      "hola mundo\n"
     ]
    }
   ],
   "source": [
    "print(\"hola mundo\")\n",
    "\n"
   ]
  },
  {
   "cell_type": "code",
   "execution_count": 2,
   "id": "0aa71900",
   "metadata": {},
   "outputs": [],
   "source": [
    "lista = [1, 2, 3, 4, 5, 6, 7, 8]\n",
    "# crear una lista \n"
   ]
  },
  {
   "cell_type": "code",
   "execution_count": null,
   "id": "5b08191c",
   "metadata": {},
   "outputs": [
    {
     "data": {
      "text/plain": [
       "4"
      ]
     },
     "execution_count": 4,
     "metadata": {},
     "output_type": "execute_result"
    }
   ],
   "source": [
    "# aceder a los elementos de una lista\n",
    "\n",
    "lista[3]\n"
   ]
  },
  {
   "cell_type": "code",
   "execution_count": 5,
   "id": "62b7faa7",
   "metadata": {},
   "outputs": [
    {
     "data": {
      "text/plain": [
       "8"
      ]
     },
     "execution_count": 5,
     "metadata": {},
     "output_type": "execute_result"
    }
   ],
   "source": [
    "lista[-1]"
   ]
  },
  {
   "cell_type": "code",
   "execution_count": 12,
   "id": "cd7f53c7",
   "metadata": {},
   "outputs": [],
   "source": [
    "#crear una matriz \n",
    "\n",
    "matriz = [[1, 2, 3], [5, 6, 7], [8, 9, 10]]"
   ]
  },
  {
   "cell_type": "code",
   "execution_count": 14,
   "id": "1206bf36",
   "metadata": {},
   "outputs": [
    {
     "data": {
      "text/plain": [
       "6"
      ]
     },
     "execution_count": 14,
     "metadata": {},
     "output_type": "execute_result"
    }
   ],
   "source": [
    "matriz[1][1]"
   ]
  },
  {
   "cell_type": "code",
   "execution_count": 4,
   "id": "dac98407",
   "metadata": {},
   "outputs": [
    {
     "data": {
      "text/plain": [
       "7000"
      ]
     },
     "execution_count": 4,
     "metadata": {},
     "output_type": "execute_result"
    }
   ],
   "source": [
    "#crear dicccionario \n",
    "\n",
    "diccionario = {\"colombia\" : 1000, \"peru\" : 1500, \"brasil\": 2000, \"usa\": 7000}\n",
    "\n",
    "diccionario[\"usa\"]"
   ]
  },
  {
   "cell_type": "code",
   "execution_count": null,
   "id": "a330719f",
   "metadata": {},
   "outputs": [],
   "source": [
    "ejercicio = {\"nombre\":[\"pedro\", \"juan\", \"jhon\", \"pablo\"], \"telefono\" :[123, 456, 789 000], \"carrera\": [\"economia\", \"fisica\","
   ]
  }
 ],
 "metadata": {
  "kernelspec": {
   "display_name": "Python 3",
   "language": "python",
   "name": "python3"
  },
  "language_info": {
   "codemirror_mode": {
    "name": "ipython",
    "version": 3
   },
   "file_extension": ".py",
   "mimetype": "text/x-python",
   "name": "python",
   "nbconvert_exporter": "python",
   "pygments_lexer": "ipython3",
   "version": "3.12.1"
  }
 },
 "nbformat": 4,
 "nbformat_minor": 5
}
